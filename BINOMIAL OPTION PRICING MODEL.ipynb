{
 "cells": [
  {
   "cell_type": "markdown",
   "id": "5c4416de",
   "metadata": {},
   "source": [
    "# BINOMIAL OPTION MODEL\n",
    "\n",
    "#### Youtube - Kevin Mooney - https://www.youtube.com/watch?v=d7wa16RNRCI\n"
   ]
  },
  {
   "cell_type": "code",
   "execution_count": 3,
   "id": "14be49f5",
   "metadata": {},
   "outputs": [],
   "source": [
    "import numpy as np\n",
    "import matplotlib.pyplot as plt\n",
    "from scipy.sparse import csc_matrix\n",
    "from scipy.stats import bernoulli\n",
    "\n",
    "%matplotlib inline"
   ]
  },
  {
   "cell_type": "code",
   "execution_count": 4,
   "id": "28581d03",
   "metadata": {},
   "outputs": [
    {
     "name": "stdout",
     "output_type": "stream",
     "text": [
      "105.0 95.23809523809523\n"
     ]
    }
   ],
   "source": [
    "# some stock price\n",
    "\n",
    "S0 = 100\n",
    "t = 1     # time to expiration\n",
    "u = 1.05  #(p(price rises))  5%\n",
    "d = 1/u   #? so drop in price less likely?    prob of stock doubling same as prob stock being cut in half\n",
    "\n",
    "p = 0.6  # prob price rising\n",
    "\n",
    "S_u = u*S0\n",
    "S_d = d*S0\n",
    "\n",
    "print(S_u, S_d)"
   ]
  },
  {
   "cell_type": "code",
   "execution_count": 5,
   "id": "7141a49d",
   "metadata": {},
   "outputs": [],
   "source": [
    "# Adding strike price\n",
    "# Adding risk free rate\n",
    "\n",
    "K = 102.5   # strike price\n",
    "r = 0.01    #1% annualised risk free rate"
   ]
  },
  {
   "cell_type": "code",
   "execution_count": 9,
   "id": "0860abfb",
   "metadata": {},
   "outputs": [
    {
     "name": "stdout",
     "output_type": "stream",
     "text": [
      "2.5 0\n"
     ]
    }
   ],
   "source": [
    "# Adding call price - all call prices at expiry - final leaves of tree\n",
    "C_u = S_u - K\n",
    "C_d = 0\n",
    "\n",
    "print(C_u, C_d)"
   ]
  },
  {
   "cell_type": "code",
   "execution_count": 11,
   "id": "c853ded1",
   "metadata": {},
   "outputs": [
    {
     "name": "stdout",
     "output_type": "stream",
     "text": [
      "1.485074750623752\n"
     ]
    }
   ],
   "source": [
    "# Computing expected value of call by DISCOUNTING the set of prices at expiry and their probabilities by the RISK FREE RATE\n",
    "# basically the weighted average value of a Monte Carlo simulation\n",
    "\n",
    "C = np.exp(-r*t)*(p*C_u + (1-p)*C_d)\n",
    "print(C)"
   ]
  },
  {
   "cell_type": "markdown",
   "id": "f7041ef7",
   "metadata": {},
   "source": [
    "# Extending model\n"
   ]
  },
  {
   "cell_type": "code",
   "execution_count": 31,
   "id": "c77e208f",
   "metadata": {},
   "outputs": [
    {
     "name": "stdout",
     "output_type": "stream",
     "text": [
      "[ -96.41899374  -95.6827518   -94.8573713   -93.93206001  -92.89471908\n",
      "  -91.7317848   -90.4280513   -88.96647168  -87.32793512  -85.49101703\n",
      "  -83.43169889  -81.12305418  -78.53489636  -75.63338409  -72.38057881\n",
      "  -68.73394863  -64.64581225  -60.06271543  -54.92473215  -49.16468098\n",
      "  -42.70724668  -35.4679954   -27.35227069  -18.25395584   -8.0540863\n",
      "    3.38070577   16.1999354    30.57121974   46.68246976   64.74434726\n",
      "   84.99301935  107.69324647  133.14184424  161.67156445  193.65544595\n",
      "  229.51169227  269.70913988  314.77338836  365.29367291  421.93056882\n",
      "  485.42462883  556.60606615  636.40560989  725.86667476  826.15900417\n",
      "  938.59396514 1064.64169506 1205.95032432 1364.36752643 1541.96467711]\n",
      "[   0.            0.            0.            0.            0.\n",
      "    0.            0.            0.            0.            0.\n",
      "    0.            0.            0.            0.            0.\n",
      "    0.            0.            0.            0.            0.\n",
      "    0.            0.            0.            0.            0.\n",
      "    3.38070577   16.1999354    30.57121974   46.68246976   64.74434726\n",
      "   84.99301935  107.69324647  133.14184424  161.67156445  193.65544595\n",
      "  229.51169227  269.70913988  314.77338836  365.29367291  421.93056882\n",
      "  485.42462883  556.60606615  636.40560989  725.86667476  826.15900417\n",
      "  938.59396514 1064.64169506 1205.95032432 1364.36752643 1541.96467711]\n"
     ]
    },
    {
     "data": {
      "text/plain": [
       "<matplotlib.image.AxesImage at 0x1e4836a6940>"
      ]
     },
     "execution_count": 31,
     "metadata": {},
     "output_type": "execute_result"
    },
    {
     "data": {
      "image/png": "[encoded data removed]",
      "text/plain": [
       "<Figure size 432x288 with 1 Axes>"
      ]
     },
     "metadata": {
      "needs_background": "light"
     },
     "output_type": "display_data"
    }
   ],
   "source": [
    "N = 50\n",
    "\n",
    "t = 1   # 1 year\n",
    "t = t/ (N-1)  # timestep\n",
    "\n",
    "S0 = 100\n",
    "r = 0.01   # annual risk free rate\n",
    "\n",
    "sigma = 0.4   # 40% annual volatility\n",
    "u = np.exp(sigma*np.sqrt(t))\n",
    "d = 1/u\n",
    "p = (np.exp(r*t)-d)/(u-d)\n",
    "\n",
    "stock_prices = np.zeros((N,N))                     #csc_matrix((N,N))    # NxN sparse matrix\n",
    "call_prices = np.zeros((N,N))                      #csc_matrix((N,N))     # NxN sparse call matrix - values not in every call. Many empty\n",
    "# np.zeros((N,N))--> now dense matrices of -\n",
    "\n",
    "# initial stock price\n",
    "stock_prices[0,0] = S0\n",
    "\n",
    "\n",
    "# computing sparse matrix of future stock prices\n",
    "for i in range(1,N):\n",
    "    M = i+1\n",
    "    stock_prices[i,0] = d* stock_prices[i-1,0]      # backward looking so computes next timestep stock price\n",
    "                                                    # so sets the tail here, where all prices decrease. This marks lower\n",
    "                                                    # bound at each timestep from which the other value can be computed at \n",
    "                                                    # same timestep == constant i\n",
    "    for j in range(1,M):\n",
    "        stock_prices[i,j] = u*stock_prices[i-1, j-1]#this is where the remaining values at given timestep calculated\n",
    "                                                    # i-1 shifts to prev time step\n",
    "                                                    # j-1 shifts to price level before price rose\n",
    "\n",
    "#plt.spy(stock_prices)\n",
    "                \n",
    "expiration = stock_prices[-1,:]-K    # stock prices at expiration\n",
    "print(expiration)\n",
    "expiration.shape = (expiration.size,)     # puts in vector format, it seems\n",
    "\n",
    "# replacing all expiration values <= with0\n",
    "expiration = np.where(expiration >= 0, expiration, 0)   # https://note.nkmk.me/en/python-numpy-where/#:~:text=np.where%20%28%29%20is%20a%20function%20that%20returns%20ndarray,expression%20including%20ndarray%20without%20using%20np.where%20%28%29.%20\n",
    "print(expiration)\n",
    "# set call prices in final row of vector\n",
    "call_prices[-1,:] = expiration\n",
    "\n",
    "plt.spy(call_prices)\n"
   ]
  },
  {
   "cell_type": "code",
   "execution_count": 32,
   "id": "938ed5f0",
   "metadata": {},
   "outputs": [
    {
     "name": "stdout",
     "output_type": "stream",
     "text": [
      "15.28912682401203\n"
     ]
    },
    {
     "data": {
      "image/png": "[encoded data removed]",
      "text/plain": [
       "<Figure size 432x288 with 1 Axes>"
      ]
     },
     "metadata": {
      "needs_background": "light"
     },
     "output_type": "display_data"
    }
   ],
   "source": [
    "# computing sparse matrix of future stock prices\n",
    "for i in range(N-2,-1,-1):          # going backwards/ decrementing from penultimate row this time\n",
    "    for j in range(i+1):\n",
    "        call_prices[i,j] = np.exp(-r*t)*((1-p)*call_prices[i+1,j] + p*call_prices[i+1, j+1])\n",
    "        \n",
    "plt.spy(call_prices)\n",
    "print(call_prices[0,0])"
   ]
  },
  {
   "cell_type": "code",
   "execution_count": null,
   "id": "cb3eac47",
   "metadata": {},
   "outputs": [],
   "source": []
  },
  {
   "cell_type": "code",
   "execution_count": null,
   "id": "eeb258d4",
   "metadata": {},
   "outputs": [],
   "source": []
  }
 ],
 "metadata": {
  "kernelspec": {
   "display_name": "Python 3 (ipykernel)",
   "language": "python",
   "name": "python3"
  },
  "language_info": {
   "codemirror_mode": {
    "name": "ipython",
    "version": 3
   },
   "file_extension": ".py",
   "mimetype": "text/x-python",
   "name": "python",
   "nbconvert_exporter": "python",
   "pygments_lexer": "ipython3",
   "version": "3.9.12"
  }
 },
 "nbformat": 4,
 "nbformat_minor": 5
}
